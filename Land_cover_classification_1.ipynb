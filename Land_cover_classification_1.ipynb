{
 "cells": [
  {
   "cell_type": "code",
   "execution_count": null,
   "metadata": {},
   "outputs": [],
   "source": []
  },
  {
   "cell_type": "code",
   "execution_count": 1,
   "metadata": {},
   "outputs": [],
   "source": [
    "import os\n",
    "import numpy as np\n",
    "from tensorflow import keras\n",
    "from pyrsgis import raster\n",
    "from pyrsgis.convert import changeDimension\n",
    "from sklearn.model_selection import train_test_split\n",
    "from sklearn.metrics import confusion_matrix, precision_score, recall_score"
   ]
  },
  {
   "cell_type": "code",
   "execution_count": 6,
   "metadata": {},
   "outputs": [
    {
     "name": "stdout",
     "output_type": "stream",
     "text": [
      "Collecting gdal"
     ]
    },
    {
     "name": "stderr",
     "output_type": "stream",
     "text": [
      "  ERROR: Command errored out with exit status 1:\n",
      "   command: 'C:\\Users\\User\\anaconda3\\envs\\tf\\python.exe' -u -c 'import sys, setuptools, tokenize; sys.argv[0] = '\"'\"'C:\\\\Users\\\\User\\\\AppData\\\\Local\\\\Temp\\\\pip-install-40rray2x\\\\gdal_0923c233f5d0438ca54ebbf786ad20e8\\\\setup.py'\"'\"'; __file__='\"'\"'C:\\\\Users\\\\User\\\\AppData\\\\Local\\\\Temp\\\\pip-install-40rray2x\\\\gdal_0923c233f5d0438ca54ebbf786ad20e8\\\\setup.py'\"'\"';f=getattr(tokenize, '\"'\"'open'\"'\"', open)(__file__);code=f.read().replace('\"'\"'\\r\\n'\"'\"', '\"'\"'\\n'\"'\"');f.close();exec(compile(code, __file__, '\"'\"'exec'\"'\"'))' bdist_wheel -d 'C:\\Users\\User\\AppData\\Local\\Temp\\pip-wheel-rw6q36ew'\n",
      "       cwd: C:\\Users\\User\\AppData\\Local\\Temp\\pip-install-40rray2x\\gdal_0923c233f5d0438ca54ebbf786ad20e8\\\n",
      "  Complete output (118 lines):\n",
      "  running bdist_wheel\n",
      "  running build\n",
      "  running build_py\n",
      "  creating build\n",
      "  creating build\\lib.win-amd64-3.8\n",
      "  creating build\\lib.win-amd64-3.8\\osgeo\n",
      "  copying osgeo\\gdal.py -> build\\lib.win-amd64-3.8\\osgeo\n",
      "  copying osgeo\\gdalconst.py -> build\\lib.win-amd64-3.8\\osgeo\n",
      "  copying osgeo\\gdalnumeric.py -> build\\lib.win-amd64-3.8\\osgeo\n",
      "  copying osgeo\\gdal_array.py -> build\\lib.win-amd64-3.8\\osgeo\n",
      "  copying osgeo\\gnm.py -> build\\lib.win-amd64-3.8\\osgeo\n",
      "  copying osgeo\\ogr.py -> build\\lib.win-amd64-3.8\\osgeo\n",
      "  copying osgeo\\osr.py -> build\\lib.win-amd64-3.8\\osgeo\n",
      "  copying osgeo\\utils.py -> build\\lib.win-amd64-3.8\\osgeo\n",
      "  copying osgeo\\__init__.py -> build\\lib.win-amd64-3.8\\osgeo\n",
      "  creating build\\lib.win-amd64-3.8\\osgeo_utils\n",
      "  copying gdal-utils\\osgeo_utils\\gdal2tiles.py -> build\\lib.win-amd64-3.8\\osgeo_utils\n",
      "  copying gdal-utils\\osgeo_utils\\gdal2xyz.py -> build\\lib.win-amd64-3.8\\osgeo_utils\n",
      "  copying gdal-utils\\osgeo_utils\\gdalattachpct.py -> build\\lib.win-amd64-3.8\\osgeo_utils\n",
      "  copying gdal-utils\\osgeo_utils\\gdalcompare.py -> build\\lib.win-amd64-3.8\\osgeo_utils\n",
      "  copying gdal-utils\\osgeo_utils\\gdalmove.py -> build\\lib.win-amd64-3.8\\osgeo_utils\n",
      "  copying gdal-utils\\osgeo_utils\\gdal_calc.py -> build\\lib.win-amd64-3.8\\osgeo_utils\n",
      "  copying gdal-utils\\osgeo_utils\\gdal_edit.py -> build\\lib.win-amd64-3.8\\osgeo_utils\n",
      "  copying gdal-utils\\osgeo_utils\\gdal_fillnodata.py -> build\\lib.win-amd64-3.8\\osgeo_utils\n",
      "  copying gdal-utils\\osgeo_utils\\gdal_merge.py -> build\\lib.win-amd64-3.8\\osgeo_utils\n",
      "  copying gdal-utils\\osgeo_utils\\gdal_pansharpen.py -> build\\lib.win-amd64-3.8\\osgeo_utils\n",
      "  copying gdal-utils\\osgeo_utils\\gdal_polygonize.py -> build\\lib.win-amd64-3.8\\osgeo_utils\n",
      "  copying gdal-utils\\osgeo_utils\\gdal_proximity.py -> build\\lib.win-amd64-3.8\\osgeo_utils\n",
      "  copying gdal-utils\\osgeo_utils\\gdal_retile.py -> build\\lib.win-amd64-3.8\\osgeo_utils\n",
      "  copying gdal-utils\\osgeo_utils\\gdal_sieve.py -> build\\lib.win-amd64-3.8\\osgeo_utils\n",
      "  copying gdal-utils\\osgeo_utils\\ogrmerge.py -> build\\lib.win-amd64-3.8\\osgeo_utils\n",
      "  copying gdal-utils\\osgeo_utils\\pct2rgb.py -> build\\lib.win-amd64-3.8\\osgeo_utils\n",
      "  copying gdal-utils\\osgeo_utils\\rgb2pct.py -> build\\lib.win-amd64-3.8\\osgeo_utils\n",
      "  copying gdal-utils\\osgeo_utils\\__init__.py -> build\\lib.win-amd64-3.8\\osgeo_utils\n",
      "  creating build\\lib.win-amd64-3.8\\osgeo_utils\\auxiliary\n",
      "  copying gdal-utils\\osgeo_utils\\auxiliary\\array_util.py -> build\\lib.win-amd64-3.8\\osgeo_utils\\auxiliary\n",
      "  copying gdal-utils\\osgeo_utils\\auxiliary\\base.py -> build\\lib.win-amd64-3.8\\osgeo_utils\\auxiliary\n",
      "  copying gdal-utils\\osgeo_utils\\auxiliary\\batch_creator.py -> build\\lib.win-amd64-3.8\\osgeo_utils\\auxiliary\n",
      "  copying gdal-utils\\osgeo_utils\\auxiliary\\color_palette.py -> build\\lib.win-amd64-3.8\\osgeo_utils\\auxiliary\n",
      "  copying gdal-utils\\osgeo_utils\\auxiliary\\color_table.py -> build\\lib.win-amd64-3.8\\osgeo_utils\\auxiliary\n",
      "  copying gdal-utils\\osgeo_utils\\auxiliary\\extent_util.py -> build\\lib.win-amd64-3.8\\osgeo_utils\\auxiliary\n",
      "  copying gdal-utils\\osgeo_utils\\auxiliary\\gdal_argparse.py -> build\\lib.win-amd64-3.8\\osgeo_utils\\auxiliary\n",
      "  copying gdal-utils\\osgeo_utils\\auxiliary\\numpy_util.py -> build\\lib.win-amd64-3.8\\osgeo_utils\\auxiliary\n",
      "  copying gdal-utils\\osgeo_utils\\auxiliary\\osr_util.py -> build\\lib.win-amd64-3.8\\osgeo_utils\\auxiliary\n",
      "  copying gdal-utils\\osgeo_utils\\auxiliary\\progress.py -> build\\lib.win-amd64-3.8\\osgeo_utils\\auxiliary\n",
      "  copying gdal-utils\\osgeo_utils\\auxiliary\\raster_creation.py -> build\\lib.win-amd64-3.8\\osgeo_utils\\auxiliary\n",
      "  copying gdal-utils\\osgeo_utils\\auxiliary\\rectangle.py -> build\\lib.win-amd64-3.8\\osgeo_utils\\auxiliary\n",
      "  copying gdal-utils\\osgeo_utils\\auxiliary\\util.py -> build\\lib.win-amd64-3.8\\osgeo_utils\\auxiliary\n",
      "  copying gdal-utils\\osgeo_utils\\auxiliary\\__init__.py -> build\\lib.win-amd64-3.8\\osgeo_utils\\auxiliary\n",
      "  creating build\\lib.win-amd64-3.8\\osgeo_utils\\samples\n",
      "  copying gdal-utils\\osgeo_utils\\samples\\assemblepoly.py -> build\\lib.win-amd64-3.8\\osgeo_utils\\samples\n",
      "  copying gdal-utils\\osgeo_utils\\samples\\build_jp2_from_xml.py -> build\\lib.win-amd64-3.8\\osgeo_utils\\samples\n",
      "  copying gdal-utils\\osgeo_utils\\samples\\classify.py -> build\\lib.win-amd64-3.8\\osgeo_utils\\samples\n",
      "  copying gdal-utils\\osgeo_utils\\samples\\crs2crs2grid.py -> build\\lib.win-amd64-3.8\\osgeo_utils\\samples\n",
      "  copying gdal-utils\\osgeo_utils\\samples\\densify.py -> build\\lib.win-amd64-3.8\\osgeo_utils\\samples\n",
      "  copying gdal-utils\\osgeo_utils\\samples\\dump_jp2.py -> build\\lib.win-amd64-3.8\\osgeo_utils\\samples\n",
      "  copying gdal-utils\\osgeo_utils\\samples\\epsg_tr.py -> build\\lib.win-amd64-3.8\\osgeo_utils\\samples\n",
      "  copying gdal-utils\\osgeo_utils\\samples\\esri2wkt.py -> build\\lib.win-amd64-3.8\\osgeo_utils\\samples\n",
      "  copying gdal-utils\\osgeo_utils\\samples\\fft.py -> build\\lib.win-amd64-3.8\\osgeo_utils\\samples\n",
      "  copying gdal-utils\\osgeo_utils\\samples\\fix_gpkg.py -> build\\lib.win-amd64-3.8\\osgeo_utils\\samples\n",
      "  copying gdal-utils\\osgeo_utils\\samples\\gcps2ogr.py -> build\\lib.win-amd64-3.8\\osgeo_utils\\samples\n",
      "  copying gdal-utils\\osgeo_utils\\samples\\gcps2vec.py -> build\\lib.win-amd64-3.8\\osgeo_utils\\samples\n",
      "  copying gdal-utils\\osgeo_utils\\samples\\gcps2wld.py -> build\\lib.win-amd64-3.8\\osgeo_utils\\samples\n",
      "  copying gdal-utils\\osgeo_utils\\samples\\gdal2grd.py -> build\\lib.win-amd64-3.8\\osgeo_utils\\samples\n",
      "  copying gdal-utils\\osgeo_utils\\samples\\gdalchksum.py -> build\\lib.win-amd64-3.8\\osgeo_utils\\samples\n",
      "  copying gdal-utils\\osgeo_utils\\samples\\gdalcopyproj.py -> build\\lib.win-amd64-3.8\\osgeo_utils\\samples\n",
      "  copying gdal-utils\\osgeo_utils\\samples\\gdalfilter.py -> build\\lib.win-amd64-3.8\\osgeo_utils\\samples"
     ]
    },
    {
     "name": "stdout",
     "output_type": "stream",
     "text": [
      "\n",
      "  Downloading GDAL-3.3.1.tar.gz (746 kB)\n",
      "Building wheels for collected packages: gdal\n",
      "  Building wheel for gdal (setup.py): started\n",
      "  Building wheel for gdal (setup.py): finished with status 'error'\n",
      "  Running setup.py clean for gdal\n",
      "Failed to build gdal\n",
      "Installing collected packages: gdal\n",
      "    Running setup.py install for gdal: started\n",
      "    Running setup.py install for gdal: finished with status 'error'\n"
     ]
    },
    {
     "name": "stderr",
     "output_type": "stream",
     "text": [
      "\n",
      "  copying gdal-utils\\osgeo_utils\\samples\\gdalident.py -> build\\lib.win-amd64-3.8\\osgeo_utils\\samples\n",
      "  copying gdal-utils\\osgeo_utils\\samples\\gdalimport.py -> build\\lib.win-amd64-3.8\\osgeo_utils\\samples\n",
      "  copying gdal-utils\\osgeo_utils\\samples\\gdalinfo.py -> build\\lib.win-amd64-3.8\\osgeo_utils\\samples\n",
      "  copying gdal-utils\\osgeo_utils\\samples\\gdallocationinfo.py -> build\\lib.win-amd64-3.8\\osgeo_utils\\samples\n",
      "  copying gdal-utils\\osgeo_utils\\samples\\gdal_auth.py -> build\\lib.win-amd64-3.8\\osgeo_utils\\samples\n",
      "  copying gdal-utils\\osgeo_utils\\samples\\gdal_cp.py -> build\\lib.win-amd64-3.8\\osgeo_utils\\samples\n",
      "  copying gdal-utils\\osgeo_utils\\samples\\gdal_create_pdf.py -> build\\lib.win-amd64-3.8\\osgeo_utils\\samples\n",
      "  copying gdal-utils\\osgeo_utils\\samples\\gdal_ls.py -> build\\lib.win-amd64-3.8\\osgeo_utils\\samples\n",
      "  copying gdal-utils\\osgeo_utils\\samples\\gdal_lut.py -> build\\lib.win-amd64-3.8\\osgeo_utils\\samples\n",
      "  copying gdal-utils\\osgeo_utils\\samples\\gdal_mkdir.py -> build\\lib.win-amd64-3.8\\osgeo_utils\\samples\n",
      "  copying gdal-utils\\osgeo_utils\\samples\\gdal_remove_towgs84.py -> build\\lib.win-amd64-3.8\\osgeo_utils\\samples\n",
      "  copying gdal-utils\\osgeo_utils\\samples\\gdal_rm.py -> build\\lib.win-amd64-3.8\\osgeo_utils\\samples\n",
      "  copying gdal-utils\\osgeo_utils\\samples\\gdal_rmdir.py -> build\\lib.win-amd64-3.8\\osgeo_utils\\samples\n",
      "  copying gdal-utils\\osgeo_utils\\samples\\gdal_vrtmerge.py -> build\\lib.win-amd64-3.8\\osgeo_utils\\samples\n",
      "  copying gdal-utils\\osgeo_utils\\samples\\gdal_zip.py -> build\\lib.win-amd64-3.8\\osgeo_utils\\samples\n",
      "  copying gdal-utils\\osgeo_utils\\samples\\get_soundg.py -> build\\lib.win-amd64-3.8\\osgeo_utils\\samples\n",
      "  copying gdal-utils\\osgeo_utils\\samples\\histrep.py -> build\\lib.win-amd64-3.8\\osgeo_utils\\samples\n",
      "  copying gdal-utils\\osgeo_utils\\samples\\hsv_merge.py -> build\\lib.win-amd64-3.8\\osgeo_utils\\samples\n",
      "  copying gdal-utils\\osgeo_utils\\samples\\jpeg_in_tiff_extract.py -> build\\lib.win-amd64-3.8\\osgeo_utils\\samples\n",
      "  copying gdal-utils\\osgeo_utils\\samples\\load2odbc.py -> build\\lib.win-amd64-3.8\\osgeo_utils\\samples\n",
      "  copying gdal-utils\\osgeo_utils\\samples\\loslas2ntv2.py -> build\\lib.win-amd64-3.8\\osgeo_utils\\samples\n",
      "  copying gdal-utils\\osgeo_utils\\samples\\magphase.py -> build\\lib.win-amd64-3.8\\osgeo_utils\\samples\n",
      "  copying gdal-utils\\osgeo_utils\\samples\\make_fuzzer_friendly_archive.py -> build\\lib.win-amd64-3.8\\osgeo_utils\\samples\n",
      "  copying gdal-utils\\osgeo_utils\\samples\\mkgraticule.py -> build\\lib.win-amd64-3.8\\osgeo_utils\\samples\n",
      "  copying gdal-utils\\osgeo_utils\\samples\\ogr2ogr.py -> build\\lib.win-amd64-3.8\\osgeo_utils\\samples\n",
      "  copying gdal-utils\\osgeo_utils\\samples\\ogr2vrt.py -> build\\lib.win-amd64-3.8\\osgeo_utils\\samples\n",
      "  copying gdal-utils\\osgeo_utils\\samples\\ogrinfo.py -> build\\lib.win-amd64-3.8\\osgeo_utils\\samples\n",
      "  copying gdal-utils\\osgeo_utils\\samples\\ogrupdate.py -> build\\lib.win-amd64-3.8\\osgeo_utils\\samples\n",
      "  copying gdal-utils\\osgeo_utils\\samples\\ogr_build_junction_table.py -> build\\lib.win-amd64-3.8\\osgeo_utils\\samples\n",
      "  copying gdal-utils\\osgeo_utils\\samples\\ogr_dispatch.py -> build\\lib.win-amd64-3.8\\osgeo_utils\\samples\n",
      "  copying gdal-utils\\osgeo_utils\\samples\\ogr_layer_algebra.py -> build\\lib.win-amd64-3.8\\osgeo_utils\\samples\n",
      "  copying gdal-utils\\osgeo_utils\\samples\\rel.py -> build\\lib.win-amd64-3.8\\osgeo_utils\\samples\n",
      "  copying gdal-utils\\osgeo_utils\\samples\\tigerpoly.py -> build\\lib.win-amd64-3.8\\osgeo_utils\\samples\n",
      "  copying gdal-utils\\osgeo_utils\\samples\\tile_extent_from_raster.py -> build\\lib.win-amd64-3.8\\osgeo_utils\\samples\n",
      "  copying gdal-utils\\osgeo_utils\\samples\\tolatlong.py -> build\\lib.win-amd64-3.8\\osgeo_utils\\samples\n",
      "  copying gdal-utils\\osgeo_utils\\samples\\validate_cloud_optimized_geotiff.py -> build\\lib.win-amd64-3.8\\osgeo_utils\\samples\n",
      "  copying gdal-utils\\osgeo_utils\\samples\\validate_gpkg.py -> build\\lib.win-amd64-3.8\\osgeo_utils\\samples\n",
      "  copying gdal-utils\\osgeo_utils\\samples\\validate_jp2.py -> build\\lib.win-amd64-3.8\\osgeo_utils\\samples\n",
      "  copying gdal-utils\\osgeo_utils\\samples\\val_repl.py -> build\\lib.win-amd64-3.8\\osgeo_utils\\samples\n",
      "  copying gdal-utils\\osgeo_utils\\samples\\vec_tr.py -> build\\lib.win-amd64-3.8\\osgeo_utils\\samples\n",
      "  copying gdal-utils\\osgeo_utils\\samples\\vec_tr_spat.py -> build\\lib.win-amd64-3.8\\osgeo_utils\\samples\n",
      "  copying gdal-utils\\osgeo_utils\\samples\\wcs_virtds_params.py -> build\\lib.win-amd64-3.8\\osgeo_utils\\samples\n",
      "  copying gdal-utils\\osgeo_utils\\samples\\__init__.py -> build\\lib.win-amd64-3.8\\osgeo_utils\\samples\n",
      "  running build_ext\n",
      "  building 'osgeo._gdal' extension\n",
      "  building 'osgeo._gdalconst' extension\n",
      "  building 'osgeo._osr' extension\n",
      "  building 'osgeo._ogr' extension\n",
      "  building 'osgeo._gnm' extension\n",
      "  building 'osgeo._gdal_array' extension\n",
      "  error: Microsoft Visual C++ 14.0 or greater is required. Get it with \"Microsoft C++ Build Tools\": https://visualstudio.microsoft.com/visual-cpp-build-tools/\n",
      "  ----------------------------------------\n",
      "  ERROR: Failed building wheel for gdal\n",
      "    ERROR: Command errored out with exit status 1:\n",
      "     command: 'C:\\Users\\User\\anaconda3\\envs\\tf\\python.exe' -u -c 'import sys, setuptools, tokenize; sys.argv[0] = '\"'\"'C:\\\\Users\\\\User\\\\AppData\\\\Local\\\\Temp\\\\pip-install-40rray2x\\\\gdal_0923c233f5d0438ca54ebbf786ad20e8\\\\setup.py'\"'\"'; __file__='\"'\"'C:\\\\Users\\\\User\\\\AppData\\\\Local\\\\Temp\\\\pip-install-40rray2x\\\\gdal_0923c233f5d0438ca54ebbf786ad20e8\\\\setup.py'\"'\"';f=getattr(tokenize, '\"'\"'open'\"'\"', open)(__file__);code=f.read().replace('\"'\"'\\r\\n'\"'\"', '\"'\"'\\n'\"'\"');f.close();exec(compile(code, __file__, '\"'\"'exec'\"'\"'))' install --record 'C:\\Users\\User\\AppData\\Local\\Temp\\pip-record-g9eh546t\\install-record.txt' --single-version-externally-managed --compile --install-headers 'C:\\Users\\User\\anaconda3\\envs\\tf\\Include\\gdal'\n",
      "         cwd: C:\\Users\\User\\AppData\\Local\\Temp\\pip-install-40rray2x\\gdal_0923c233f5d0438ca54ebbf786ad20e8\\\n",
      "    Complete output (118 lines):\n",
      "    running install\n",
      "    running build\n",
      "    running build_py\n",
      "    creating build\n",
      "    creating build\\lib.win-amd64-3.8\n",
      "    creating build\\lib.win-amd64-3.8\\osgeo\n",
      "    copying osgeo\\gdal.py -> build\\lib.win-amd64-3.8\\osgeo\n",
      "    copying osgeo\\gdalconst.py -> build\\lib.win-amd64-3.8\\osgeo\n",
      "    copying osgeo\\gdalnumeric.py -> build\\lib.win-amd64-3.8\\osgeo\n",
      "    copying osgeo\\gdal_array.py -> build\\lib.win-amd64-3.8\\osgeo\n",
      "    copying osgeo\\gnm.py -> build\\lib.win-amd64-3.8\\osgeo\n",
      "    copying osgeo\\ogr.py -> build\\lib.win-amd64-3.8\\osgeo\n",
      "    copying osgeo\\osr.py -> build\\lib.win-amd64-3.8\\osgeo\n",
      "    copying osgeo\\utils.py -> build\\lib.win-amd64-3.8\\osgeo\n",
      "    copying osgeo\\__init__.py -> build\\lib.win-amd64-3.8\\osgeo\n",
      "    creating build\\lib.win-amd64-3.8\\osgeo_utils\n",
      "    copying gdal-utils\\osgeo_utils\\gdal2tiles.py -> build\\lib.win-amd64-3.8\\osgeo_utils\n",
      "    copying gdal-utils\\osgeo_utils\\gdal2xyz.py -> build\\lib.win-amd64-3.8\\osgeo_utils\n",
      "    copying gdal-utils\\osgeo_utils\\gdalattachpct.py -> build\\lib.win-amd64-3.8\\osgeo_utils\n",
      "    copying gdal-utils\\osgeo_utils\\gdalcompare.py -> build\\lib.win-amd64-3.8\\osgeo_utils\n",
      "    copying gdal-utils\\osgeo_utils\\gdalmove.py -> build\\lib.win-amd64-3.8\\osgeo_utils\n",
      "    copying gdal-utils\\osgeo_utils\\gdal_calc.py -> build\\lib.win-amd64-3.8\\osgeo_utils\n",
      "    copying gdal-utils\\osgeo_utils\\gdal_edit.py -> build\\lib.win-amd64-3.8\\osgeo_utils\n",
      "    copying gdal-utils\\osgeo_utils\\gdal_fillnodata.py -> build\\lib.win-amd64-3.8\\osgeo_utils\n",
      "    copying gdal-utils\\osgeo_utils\\gdal_merge.py -> build\\lib.win-amd64-3.8\\osgeo_utils\n",
      "    copying gdal-utils\\osgeo_utils\\gdal_pansharpen.py -> build\\lib.win-amd64-3.8\\osgeo_utils\n",
      "    copying gdal-utils\\osgeo_utils\\gdal_polygonize.py -> build\\lib.win-amd64-3.8\\osgeo_utils\n",
      "    copying gdal-utils\\osgeo_utils\\gdal_proximity.py -> build\\lib.win-amd64-3.8\\osgeo_utils\n",
      "    copying gdal-utils\\osgeo_utils\\gdal_retile.py -> build\\lib.win-amd64-3.8\\osgeo_utils\n",
      "    copying gdal-utils\\osgeo_utils\\gdal_sieve.py -> build\\lib.win-amd64-3.8\\osgeo_utils\n",
      "    copying gdal-utils\\osgeo_utils\\ogrmerge.py -> build\\lib.win-amd64-3.8\\osgeo_utils\n",
      "    copying gdal-utils\\osgeo_utils\\pct2rgb.py -> build\\lib.win-amd64-3.8\\osgeo_utils\n",
      "    copying gdal-utils\\osgeo_utils\\rgb2pct.py -> build\\lib.win-amd64-3.8\\osgeo_utils\n",
      "    copying gdal-utils\\osgeo_utils\\__init__.py -> build\\lib.win-amd64-3.8\\osgeo_utils\n",
      "    creating build\\lib.win-amd64-3.8\\osgeo_utils\\auxiliary\n",
      "    copying gdal-utils\\osgeo_utils\\auxiliary\\array_util.py -> build\\lib.win-amd64-3.8\\osgeo_utils\\auxiliary\n",
      "    copying gdal-utils\\osgeo_utils\\auxiliary\\base.py -> build\\lib.win-amd64-3.8\\osgeo_utils\\auxiliary\n",
      "    copying gdal-utils\\osgeo_utils\\auxiliary\\batch_creator.py -> build\\lib.win-amd64-3.8\\osgeo_utils\\auxiliary\n",
      "    copying gdal-utils\\osgeo_utils\\auxiliary\\color_palette.py -> build\\lib.win-amd64-3.8\\osgeo_utils\\auxiliary\n",
      "    copying gdal-utils\\osgeo_utils\\auxiliary\\color_table.py -> build\\lib.win-amd64-3.8\\osgeo_utils\\auxiliary\n",
      "    copying gdal-utils\\osgeo_utils\\auxiliary\\extent_util.py -> build\\lib.win-amd64-3.8\\osgeo_utils\\auxiliary\n",
      "    copying gdal-utils\\osgeo_utils\\auxiliary\\gdal_argparse.py -> build\\lib.win-amd64-3.8\\osgeo_utils\\auxiliary\n",
      "    copying gdal-utils\\osgeo_utils\\auxiliary\\numpy_util.py -> build\\lib.win-amd64-3.8\\osgeo_utils\\auxiliary\n",
      "    copying gdal-utils\\osgeo_utils\\auxiliary\\osr_util.py -> build\\lib.win-amd64-3.8\\osgeo_utils\\auxiliary\n",
      "    copying gdal-utils\\osgeo_utils\\auxiliary\\progress.py -> build\\lib.win-amd64-3.8\\osgeo_utils\\auxiliary\n",
      "    copying gdal-utils\\osgeo_utils\\auxiliary\\raster_creation.py -> build\\lib.win-amd64-3.8\\osgeo_utils\\auxiliary\n",
      "    copying gdal-utils\\osgeo_utils\\auxiliary\\rectangle.py -> build\\lib.win-amd64-3.8\\osgeo_utils\\auxiliary\n",
      "    copying gdal-utils\\osgeo_utils\\auxiliary\\util.py -> build\\lib.win-amd64-3.8\\osgeo_utils\\auxiliary\n",
      "    copying gdal-utils\\osgeo_utils\\auxiliary\\__init__.py -> build\\lib.win-amd64-3.8\\osgeo_utils\\auxiliary\n",
      "    creating build\\lib.win-amd64-3.8\\osgeo_utils\\samples\n",
      "    copying gdal-utils\\osgeo_utils\\samples\\assemblepoly.py -> build\\lib.win-amd64-3.8\\osgeo_utils\\samples\n",
      "    copying gdal-utils\\osgeo_utils\\samples\\build_jp2_from_xml.py -> build\\lib.win-amd64-3.8\\osgeo_utils\\samples\n",
      "    copying gdal-utils\\osgeo_utils\\samples\\classify.py -> build\\lib.win-amd64-3.8\\osgeo_utils\\samples\n",
      "    copying gdal-utils\\osgeo_utils\\samples\\crs2crs2grid.py -> build\\lib.win-amd64-3.8\\osgeo_utils\\samples\n",
      "    copying gdal-utils\\osgeo_utils\\samples\\densify.py -> build\\lib.win-amd64-3.8\\osgeo_utils\\samples\n",
      "    copying gdal-utils\\osgeo_utils\\samples\\dump_jp2.py -> build\\lib.win-amd64-3.8\\osgeo_utils\\samples\n",
      "    copying gdal-utils\\osgeo_utils\\samples\\epsg_tr.py -> build\\lib.win-amd64-3.8\\osgeo_utils\\samples\n",
      "    copying gdal-utils\\osgeo_utils\\samples\\esri2wkt.py -> build\\lib.win-amd64-3.8\\osgeo_utils\\samples\n",
      "    copying gdal-utils\\osgeo_utils\\samples\\fft.py -> build\\lib.win-amd64-3.8\\osgeo_utils\\samples\n",
      "    copying gdal-utils\\osgeo_utils\\samples\\fix_gpkg.py -> build\\lib.win-amd64-3.8\\osgeo_utils\\samples\n",
      "    copying gdal-utils\\osgeo_utils\\samples\\gcps2ogr.py -> build\\lib.win-amd64-3.8\\osgeo_utils\\samples\n",
      "    copying gdal-utils\\osgeo_utils\\samples\\gcps2vec.py -> build\\lib.win-amd64-3.8\\osgeo_utils\\samples\n",
      "    copying gdal-utils\\osgeo_utils\\samples\\gcps2wld.py -> build\\lib.win-amd64-3.8\\osgeo_utils\\samples\n",
      "    copying gdal-utils\\osgeo_utils\\samples\\gdal2grd.py -> build\\lib.win-amd64-3.8\\osgeo_utils\\samples\n",
      "    copying gdal-utils\\osgeo_utils\\samples\\gdalchksum.py -> build\\lib.win-amd64-3.8\\osgeo_utils\\samples\n",
      "    copying gdal-utils\\osgeo_utils\\samples\\gdalcopyproj.py -> build\\lib.win-amd64-3.8\\osgeo_utils\\samples\n",
      "    copying gdal-utils\\osgeo_utils\\samples\\gdalfilter.py -> build\\lib.win-amd64-3.8\\osgeo_utils\\samples\n",
      "    copying gdal-utils\\osgeo_utils\\samples\\gdalident.py -> build\\lib.win-amd64-3.8\\osgeo_utils\\samples\n",
      "    copying gdal-utils\\osgeo_utils\\samples\\gdalimport.py -> build\\lib.win-amd64-3.8\\osgeo_utils\\samples\n",
      "    copying gdal-utils\\osgeo_utils\\samples\\gdalinfo.py -> build\\lib.win-amd64-3.8\\osgeo_utils\\samples\n",
      "    copying gdal-utils\\osgeo_utils\\samples\\gdallocationinfo.py -> build\\lib.win-amd64-3.8\\osgeo_utils\\samples\n",
      "    copying gdal-utils\\osgeo_utils\\samples\\gdal_auth.py -> build\\lib.win-amd64-3.8\\osgeo_utils\\samples\n",
      "    copying gdal-utils\\osgeo_utils\\samples\\gdal_cp.py -> build\\lib.win-amd64-3.8\\osgeo_utils\\samples\n",
      "    copying gdal-utils\\osgeo_utils\\samples\\gdal_create_pdf.py -> build\\lib.win-amd64-3.8\\osgeo_utils\\samples\n",
      "    copying gdal-utils\\osgeo_utils\\samples\\gdal_ls.py -> build\\lib.win-amd64-3.8\\osgeo_utils\\samples\n",
      "    copying gdal-utils\\osgeo_utils\\samples\\gdal_lut.py -> build\\lib.win-amd64-3.8\\osgeo_utils\\samples\n",
      "    copying gdal-utils\\osgeo_utils\\samples\\gdal_mkdir.py -> build\\lib.win-amd64-3.8\\osgeo_utils\\samples\n",
      "    copying gdal-utils\\osgeo_utils\\samples\\gdal_remove_towgs84.py -> build\\lib.win-amd64-3.8\\osgeo_utils\\samples\n",
      "    copying gdal-utils\\osgeo_utils\\samples\\gdal_rm.py -> build\\lib.win-amd64-3.8\\osgeo_utils\\samples\n",
      "    copying gdal-utils\\osgeo_utils\\samples\\gdal_rmdir.py -> build\\lib.win-amd64-3.8\\osgeo_utils\\samples\n",
      "    copying gdal-utils\\osgeo_utils\\samples\\gdal_vrtmerge.py -> build\\lib.win-amd64-3.8\\osgeo_utils\\samples\n",
      "    copying gdal-utils\\osgeo_utils\\samples\\gdal_zip.py -> build\\lib.win-amd64-3.8\\osgeo_utils\\samples\n",
      "    copying gdal-utils\\osgeo_utils\\samples\\get_soundg.py -> build\\lib.win-amd64-3.8\\osgeo_utils\\samples\n",
      "    copying gdal-utils\\osgeo_utils\\samples\\histrep.py -> build\\lib.win-amd64-3.8\\osgeo_utils\\samples\n",
      "    copying gdal-utils\\osgeo_utils\\samples\\hsv_merge.py -> build\\lib.win-amd64-3.8\\osgeo_utils\\samples\n",
      "    copying gdal-utils\\osgeo_utils\\samples\\jpeg_in_tiff_extract.py -> build\\lib.win-amd64-3.8\\osgeo_utils\\samples\n",
      "    copying gdal-utils\\osgeo_utils\\samples\\load2odbc.py -> build\\lib.win-amd64-3.8\\osgeo_utils\\samples\n",
      "    copying gdal-utils\\osgeo_utils\\samples\\loslas2ntv2.py -> build\\lib.win-amd64-3.8\\osgeo_utils\\samples\n",
      "    copying gdal-utils\\osgeo_utils\\samples\\magphase.py -> build\\lib.win-amd64-3.8\\osgeo_utils\\samples\n",
      "    copying gdal-utils\\osgeo_utils\\samples\\make_fuzzer_friendly_archive.py -> build\\lib.win-amd64-3.8\\osgeo_utils\\samples\n",
      "    copying gdal-utils\\osgeo_utils\\samples\\mkgraticule.py -> build\\lib.win-amd64-3.8\\osgeo_utils\\samples\n",
      "    copying gdal-utils\\osgeo_utils\\samples\\ogr2ogr.py -> build\\lib.win-amd64-3.8\\osgeo_utils\\samples\n",
      "    copying gdal-utils\\osgeo_utils\\samples\\ogr2vrt.py -> build\\lib.win-amd64-3.8\\osgeo_utils\\samples\n",
      "    copying gdal-utils\\osgeo_utils\\samples\\ogrinfo.py -> build\\lib.win-amd64-3.8\\osgeo_utils\\samples\n",
      "    copying gdal-utils\\osgeo_utils\\samples\\ogrupdate.py -> build\\lib.win-amd64-3.8\\osgeo_utils\\samples\n",
      "    copying gdal-utils\\osgeo_utils\\samples\\ogr_build_junction_table.py -> build\\lib.win-amd64-3.8\\osgeo_utils\\samples\n",
      "    copying gdal-utils\\osgeo_utils\\samples\\ogr_dispatch.py -> build\\lib.win-amd64-3.8\\osgeo_utils\\samples\n",
      "    copying gdal-utils\\osgeo_utils\\samples\\ogr_layer_algebra.py -> build\\lib.win-amd64-3.8\\osgeo_utils\\samples\n",
      "    copying gdal-utils\\osgeo_utils\\samples\\rel.py -> build\\lib.win-amd64-3.8\\osgeo_utils\\samples\n",
      "    copying gdal-utils\\osgeo_utils\\samples\\tigerpoly.py -> build\\lib.win-amd64-3.8\\osgeo_utils\\samples\n",
      "    copying gdal-utils\\osgeo_utils\\samples\\tile_extent_from_raster.py -> build\\lib.win-amd64-3.8\\osgeo_utils\\samples\n",
      "    copying gdal-utils\\osgeo_utils\\samples\\tolatlong.py -> build\\lib.win-amd64-3.8\\osgeo_utils\\samples\n",
      "    copying gdal-utils\\osgeo_utils\\samples\\validate_cloud_optimized_geotiff.py -> build\\lib.win-amd64-3.8\\osgeo_utils\\samples\n",
      "    copying gdal-utils\\osgeo_utils\\samples\\validate_gpkg.py -> build\\lib.win-amd64-3.8\\osgeo_utils\\samples\n",
      "    copying gdal-utils\\osgeo_utils\\samples\\validate_jp2.py -> build\\lib.win-amd64-3.8\\osgeo_utils\\samples\n",
      "    copying gdal-utils\\osgeo_utils\\samples\\val_repl.py -> build\\lib.win-amd64-3.8\\osgeo_utils\\samples\n",
      "    copying gdal-utils\\osgeo_utils\\samples\\vec_tr.py -> build\\lib.win-amd64-3.8\\osgeo_utils\\samples\n",
      "    copying gdal-utils\\osgeo_utils\\samples\\vec_tr_spat.py -> build\\lib.win-amd64-3.8\\osgeo_utils\\samples\n",
      "    copying gdal-utils\\osgeo_utils\\samples\\wcs_virtds_params.py -> build\\lib.win-amd64-3.8\\osgeo_utils\\samples\n",
      "    copying gdal-utils\\osgeo_utils\\samples\\__init__.py -> build\\lib.win-amd64-3.8\\osgeo_utils\\samples\n",
      "    running build_ext\n",
      "    building 'osgeo._gdal' extension\n",
      "    building 'osgeo._gdalconst' extension\n",
      "    building 'osgeo._osr' extension\n",
      "    building 'osgeo._ogr' extension\n",
      "    building 'osgeo._gdal_array' extension\n",
      "    building 'osgeo._gnm' extension\n",
      "    error: Microsoft Visual C++ 14.0 or greater is required. Get it with \"Microsoft C++ Build Tools\": https://visualstudio.microsoft.com/visual-cpp-build-tools/\n",
      "    ----------------------------------------\n",
      "ERROR: Command errored out with exit status 1: 'C:\\Users\\User\\anaconda3\\envs\\tf\\python.exe' -u -c 'import sys, setuptools, tokenize; sys.argv[0] = '\"'\"'C:\\\\Users\\\\User\\\\AppData\\\\Local\\\\Temp\\\\pip-install-40rray2x\\\\gdal_0923c233f5d0438ca54ebbf786ad20e8\\\\setup.py'\"'\"'; __file__='\"'\"'C:\\\\Users\\\\User\\\\AppData\\\\Local\\\\Temp\\\\pip-install-40rray2x\\\\gdal_0923c233f5d0438ca54ebbf786ad20e8\\\\setup.py'\"'\"';f=getattr(tokenize, '\"'\"'open'\"'\"', open)(__file__);code=f.read().replace('\"'\"'\\r\\n'\"'\"', '\"'\"'\\n'\"'\"');f.close();exec(compile(code, __file__, '\"'\"'exec'\"'\"'))' install --record 'C:\\Users\\User\\AppData\\Local\\Temp\\pip-record-g9eh546t\\install-record.txt' --single-version-externally-managed --compile --install-headers 'C:\\Users\\User\\anaconda3\\envs\\tf\\Include\\gdal' Check the logs for full command output.\n"
     ]
    }
   ],
   "source": [
    "!pip install gdal"
   ]
  },
  {
   "cell_type": "code",
   "execution_count": null,
   "metadata": {},
   "outputs": [],
   "source": [
    "# Change the directory\n",
    "os.chdir(\"E:\\\\BuiltUpPrediction\")"
   ]
  },
  {
   "cell_type": "code",
   "execution_count": 2,
   "metadata": {},
   "outputs": [],
   "source": [
    "# Assign file names\n",
    "mxBangalore = 'l5_Bangalore2011_raw.tif'\n",
    "builtupBangalore = 'l5_Bangalore2011_builtup.tif'\n",
    "mxHyderabad = 'l5_Hyderabad2011_raw.tif'"
   ]
  },
  {
   "cell_type": "code",
   "execution_count": 3,
   "metadata": {},
   "outputs": [],
   "source": [
    "# Read the rasters as array\n",
    "ds1, featuresBangalore = raster.read(mxBangalore, bands='all')\n",
    "ds2, labelBangalore = raster.read(builtupBangalore, bands=1)\n",
    "ds3, featuresHyderabad = raster.read(mxHyderabad, bands='all')"
   ]
  },
  {
   "cell_type": "code",
   "execution_count": 4,
   "metadata": {},
   "outputs": [
    {
     "name": "stdout",
     "output_type": "stream",
     "text": [
      "Bangalore Multispectral image shape:  (6, 2054, 2044)\n",
      "Bangalore Binary built-up image shape:  (2054, 2044)\n",
      "Hyderabad Multispectral image shape:  (6, 1318, 1056)\n"
     ]
    }
   ],
   "source": [
    "# Print the size of the arrays\n",
    "print(\"Bangalore Multispectral image shape: \", featuresBangalore.shape)\n",
    "print(\"Bangalore Binary built-up image shape: \", labelBangalore.shape)\n",
    "print(\"Hyderabad Multispectral image shape: \", featuresHyderabad.shape)"
   ]
  },
  {
   "cell_type": "code",
   "execution_count": 5,
   "metadata": {},
   "outputs": [],
   "source": [
    "# Clean the labelled data to replace NoData values by zero\n",
    "labelBangalore = (labelBangalore == 1).astype(int)"
   ]
  },
  {
   "cell_type": "code",
   "execution_count": 6,
   "metadata": {},
   "outputs": [],
   "source": [
    "# Reshape the array to single dimensional array\n",
    "featuresBangalore = changeDimension(featuresBangalore)\n",
    "labelBangalore = changeDimension (labelBangalore)\n",
    "featuresHyderabad = changeDimension(featuresHyderabad)\n",
    "nBands = featuresBangalore.shape[1]"
   ]
  },
  {
   "cell_type": "code",
   "execution_count": 7,
   "metadata": {},
   "outputs": [
    {
     "name": "stdout",
     "output_type": "stream",
     "text": [
      "Bangalore Multispectral image shape:  (4198376, 6)\n",
      "Bangalore Binary built-up image shape:  (4198376,)\n",
      "Hyderabad Multispectral image shape:  (1391808, 6)\n"
     ]
    }
   ],
   "source": [
    "print(\"Bangalore Multispectral image shape: \", featuresBangalore.shape)\n",
    "print(\"Bangalore Binary built-up image shape: \", labelBangalore.shape)\n",
    "print(\"Hyderabad Multispectral image shape: \", featuresHyderabad.shape)"
   ]
  },
  {
   "cell_type": "code",
   "execution_count": 8,
   "metadata": {},
   "outputs": [],
   "source": [
    "# Split testing and training datasets\n",
    "xTrain, xTest, yTrain, yTest = train_test_split(featuresBangalore, labelBangalore, test_size=0.4, random_state=42)"
   ]
  },
  {
   "cell_type": "code",
   "execution_count": 9,
   "metadata": {},
   "outputs": [
    {
     "name": "stdout",
     "output_type": "stream",
     "text": [
      "(2519025, 6)\n",
      "(2519025,)\n"
     ]
    }
   ],
   "source": [
    "print(xTrain.shape)\n",
    "print(yTrain.shape)"
   ]
  },
  {
   "cell_type": "code",
   "execution_count": 10,
   "metadata": {},
   "outputs": [
    {
     "name": "stdout",
     "output_type": "stream",
     "text": [
      "(1679351, 6)\n",
      "(1679351,)\n"
     ]
    }
   ],
   "source": [
    "print(xTest.shape)\n",
    "print(yTest.shape)\n"
   ]
  },
  {
   "cell_type": "code",
   "execution_count": 11,
   "metadata": {},
   "outputs": [],
   "source": [
    "# Normalise the data\n",
    "xTrain = xTrain / 255.0\n",
    "xTest = xTest / 255.0\n",
    "featuresHyderabad = featuresHyderabad / 255.0"
   ]
  },
  {
   "cell_type": "code",
   "execution_count": 12,
   "metadata": {},
   "outputs": [],
   "source": [
    "# Reshape the data\n",
    "xTrain = xTrain.reshape((xTrain.shape[0], 1, xTrain.shape[1]))\n",
    "xTest = xTest.reshape((xTest.shape[0], 1, xTest.shape[1]))\n",
    "featuresHyderabad = featuresHyderabad.reshape((featuresHyderabad.shape[0], 1, featuresHyderabad.shape[1]))"
   ]
  },
  {
   "cell_type": "code",
   "execution_count": 14,
   "metadata": {},
   "outputs": [
    {
     "name": "stdout",
     "output_type": "stream",
     "text": [
      "(2519025, 1, 6) (1679351, 1, 6) (1391808, 1, 6)\n"
     ]
    }
   ],
   "source": [
    "# Print the shape of reshaped data\n",
    "print(xTrain.shape, xTest.shape, featuresHyderabad.shape)"
   ]
  },
  {
   "cell_type": "code",
   "execution_count": 15,
   "metadata": {},
   "outputs": [],
   "source": [
    "# Define the parameters of the model\n",
    "model = keras.Sequential([\n",
    "    keras.layers.Flatten(input_shape=(1, nBands)),\n",
    "    keras.layers.Dense(14, activation='relu'),\n",
    "    keras.layers.Dense(2, activation='softmax')])"
   ]
  },
  {
   "cell_type": "code",
   "execution_count": 16,
   "metadata": {},
   "outputs": [
    {
     "name": "stdout",
     "output_type": "stream",
     "text": [
      "Epoch 1/2\n",
      "    1/78720 [..............................] - ETA: 0s - loss: 0.6322 - accuracy: 1.0000WARNING:tensorflow:Callbacks method `on_train_batch_end` is slow compared to the batch time (batch time: 0.0000s vs `on_train_batch_end` time: 0.0103s). Check your callbacks.\n",
      "78720/78720 [==============================] - 313s 4ms/step - loss: 0.1337 - accuracy: 0.9512\n",
      "Epoch 2/2\n",
      "78720/78720 [==============================] - 277s 4ms/step - loss: 0.1142 - accuracy: 0.9579\n"
     ]
    }
   ],
   "source": [
    "# Define the accuracy metrics and parameters\n",
    "model.compile(optimizer=\"adam\", loss=\"sparse_categorical_crossentropy\", metrics=[\"accuracy\"])\n",
    "\n",
    "# Run the model\n",
    "model.fit(xTrain, yTrain, epochs=2)\n",
    "\n",
    "# Predict for test data \n",
    "yTestPredicted = model.predict(xTest)\n",
    "yTestPredicted = yTestPredicted[:,1]\n",
    "\n"
   ]
  },
  {
   "cell_type": "code",
   "execution_count": 17,
   "metadata": {},
   "outputs": [
    {
     "name": "stdout",
     "output_type": "stream",
     "text": [
      "Confusion matrix: for 14 nodes\n",
      " [[1458480   22396]\n",
      " [  47752  150723]]\n",
      "\n",
      "P-Score: 0.871, R-Score: 0.759\n"
     ]
    }
   ],
   "source": [
    "# Calculate and display the error metrics\n",
    "yTestPredicted = (yTestPredicted>0.5).astype(int)\n",
    "cMatrix = confusion_matrix(yTest, yTestPredicted)\n",
    "pScore = precision_score(yTest, yTestPredicted)\n",
    "rScore = recall_score(yTest, yTestPredicted)\n",
    "\n",
    "print(\"Confusion matrix: for 14 nodes\\n\", cMatrix)\n",
    "print(\"\\nP-Score: %.3f, R-Score: %.3f\" % (pScore, rScore))\n",
    "\n",
    "predicted = model.predict(featuresHyderabad)\n",
    "predicted = predicted[:,1]\n",
    "\n"
   ]
  },
  {
   "cell_type": "code",
   "execution_count": 18,
   "metadata": {},
   "outputs": [],
   "source": [
    "# Predict new data and export the probability raster\n",
    "prediction = np.reshape(predicted, (ds3.RasterYSize, ds3.RasterXSize))\n",
    "outFile = 'Hyderabad_2011_BuiltupNN_predicted_1.tif'\n",
    "raster.export(prediction, ds3, filename=outFile, dtype='float')"
   ]
  },
  {
   "cell_type": "code",
   "execution_count": null,
   "metadata": {},
   "outputs": [],
   "source": []
  }
 ],
 "metadata": {
  "kernelspec": {
   "display_name": "Python 3",
   "language": "python",
   "name": "python3"
  },
  "language_info": {
   "codemirror_mode": {
    "name": "ipython",
    "version": 3
   },
   "file_extension": ".py",
   "mimetype": "text/x-python",
   "name": "python",
   "nbconvert_exporter": "python",
   "pygments_lexer": "ipython3",
   "version": "3.8.5"
  }
 },
 "nbformat": 4,
 "nbformat_minor": 4
}
